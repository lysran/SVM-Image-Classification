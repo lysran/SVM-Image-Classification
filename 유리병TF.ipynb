{
  "nbformat": 4,
  "nbformat_minor": 0,
  "metadata": {
    "colab": {
      "name": "유리병TF.ipynb",
      "provenance": [],
      "collapsed_sections": [],
      "include_colab_link": true
    },
    "kernelspec": {
      "name": "python3",
      "display_name": "Python 3"
    },
    "language_info": {
      "name": "python"
    }
  },
  "cells": [
    {
      "cell_type": "markdown",
      "metadata": {
        "id": "view-in-github",
        "colab_type": "text"
      },
      "source": [
        "<a href=\"https://colab.research.google.com/github/lysran/SVM-Image-Classification/blob/master/%EC%9C%A0%EB%A6%AC%EB%B3%91TF.ipynb\" target=\"_parent\"><img src=\"https://colab.research.google.com/assets/colab-badge.svg\" alt=\"Open In Colab\"/></a>"
      ]
    },
    {
      "cell_type": "markdown",
      "metadata": {
        "id": "xVG6jjDK2JPL"
      },
      "source": [
        "# 데이터 수집"
      ]
    },
    {
      "cell_type": "code",
      "metadata": {
        "colab": {
          "base_uri": "https://localhost:8080/"
        },
        "id": "bEs0JMUhoh6R",
        "outputId": "6cfb22a7-da17-4512-a930-7047cc7f45db"
      },
      "source": [
        "import requests\n",
        "! pip install wget\n",
        "import wget\n",
        "import base64\n",
        "from bs4 import BeautifulSoup \n",
        "import os\n",
        "\n",
        "os.makedirs(\"dataset/green\")\n",
        "os.makedirs(\"dataset/brown\")\n",
        "os.makedirs(\"dataset/other\")\n"
      ],
      "execution_count": null,
      "outputs": [
        {
          "output_type": "stream",
          "text": [
            "Collecting wget\n",
            "  Downloading https://files.pythonhosted.org/packages/47/6a/62e288da7bcda82b935ff0c6cfe542970f04e29c756b0e147251b2fb251f/wget-3.2.zip\n",
            "Building wheels for collected packages: wget\n",
            "  Building wheel for wget (setup.py) ... \u001b[?25l\u001b[?25hdone\n",
            "  Created wheel for wget: filename=wget-3.2-cp37-none-any.whl size=9675 sha256=95bbaeaa0283d90cde6600effb9758b9f11f35c5d88536e5b941c45e54bf3239\n",
            "  Stored in directory: /root/.cache/pip/wheels/40/15/30/7d8f7cea2902b4db79e3fea550d7d7b85ecb27ef992b618f3f\n",
            "Successfully built wget\n",
            "Installing collected packages: wget\n",
            "Successfully installed wget-3.2\n"
          ],
          "name": "stdout"
        }
      ]
    },
    {
      "cell_type": "code",
      "metadata": {
        "id": "0nGiK-Z2ESu9"
      },
      "source": [
        ""
      ],
      "execution_count": null,
      "outputs": []
    },
    {
      "cell_type": "markdown",
      "metadata": {
        "id": "GwRL6XIJETuQ"
      },
      "source": [
        "# 새 섹션"
      ]
    },
    {
      "cell_type": "markdown",
      "metadata": {
        "id": "F6nvzMgpztAm"
      },
      "source": [
        "초록색 병 데이터 수집"
      ]
    },
    {
      "cell_type": "code",
      "metadata": {
        "colab": {
          "base_uri": "https://localhost:8080/"
        },
        "id": "Td9iGzjZosuA",
        "outputId": "8bbc301a-b741-42eb-ae59-fc98513e6769"
      },
      "source": [
        "url = \"https://www.google.com/search?q=green+glass+bottle&tbm=isch&ved=2ahUKEwi28NetkPHwAhXD4GEKHTU5BYYQ2-cCegQIABAA&oq=green+glass+bottle&gs_lcp=CgNpbWcQAzIECAAQEzIECAAQEzIECAAQEzIECAAQEzIECAAQEzIECAAQEzIECAAQEzIECAAQEzIECAAQEzIECAAQEzoGCAAQBxAeUOyfAViSpAFglKUBaABwAHgAgAGVAYgByQWSAQMwLjaYAQCgAQGqAQtnd3Mtd2l6LWltZ8ABAQ&sclient=img&ei=nV-zYPatEsPBhwO18pSwCA&bih=1329&biw=2543&rlz=1C1OKWM_koKR850KR850&hl=ko\"\n",
        "\n",
        "cls_name = \"green\"\n",
        "res = requests.get(url)\n",
        "\n",
        "\n",
        "bs = BeautifulSoup(res.content, \"html.parser\")\n",
        "img_list = bs.find_all(\"img\")\n",
        "\n",
        "i=1\n",
        "for img in img_list:\n",
        "  info = img[\"src\"]\n",
        "\n",
        "  if info.startswith(\"http\"):\n",
        "    wget.download(info, f\"dataset/{cls_name}/{cls_name}_{i}.jpg\")\n",
        "    i += 1\n",
        "  elif info.startswith(\"data:image\"):\n",
        "    with open(f\"dataset/{cls_name}/{cls_name}_{i}.jpg\", \"wb\") as fh:\n",
        "      fh.write(base64.decodebytes(info.split(\",\")[1]))\n",
        "      i += 1\n",
        "  else:\n",
        "    print(info)"
      ],
      "execution_count": null,
      "outputs": [
        {
          "output_type": "stream",
          "text": [
            "/images/branding/searchlogo/1x/googlelogo_desk_heirloom_color_150x55dp.gif\n"
          ],
          "name": "stdout"
        }
      ]
    },
    {
      "cell_type": "markdown",
      "metadata": {
        "id": "qP_fkfZGz6qP"
      },
      "source": [
        "갈색병 데이터 수집\n"
      ]
    },
    {
      "cell_type": "code",
      "metadata": {
        "colab": {
          "base_uri": "https://localhost:8080/"
        },
        "id": "iZyFtT3FpDOT",
        "outputId": "67396e67-78da-4408-c085-c4754fa9a555"
      },
      "source": [
        "url = \"https://www.google.com/search?q=brown+glass+bottle&tbm=isch&ved=2ahUKEwjN68W4kPHwAhXQDd4KHdXDAYQQ2-cCegQIABAA&oq=brown+glass+bottle&gs_lcp=CgNpbWcQAzIECAAQEzIECAAQEzIECAAQEzIECAAQEzIECAAQEzIECAAQEzIECAAQEzIECAAQEzIECAAQEzIECAAQE1Di-lBY7_5QYN2CUWgAcAB4AIAB-AGIAbUGkgEFMC40LjGYAQCgAQGqAQtnd3Mtd2l6LWltZ8ABAQ&sclient=img&ei=tF-zYM3BBNCb-AbVh4egCA&bih=1329&biw=2543&rlz=1C1OKWM_koKR850KR850&hl=ko\"\n",
        "cls_name = \"brown\"\n",
        "res = requests.get(url)\n",
        "\n",
        "\n",
        "bs = BeautifulSoup(res.content, \"html.parser\")\n",
        "img_list = bs.find_all(\"img\")\n",
        "\n",
        "i=1\n",
        "for img in img_list:\n",
        "  info = img[\"src\"]\n",
        "\n",
        "  if info.startswith(\"http\"):\n",
        "    wget.download(info, f\"dataset/{cls_name}/{cls_name}_{i}.jpg\")\n",
        "    i += 1\n",
        "  elif info.startswith(\"data:image\"):\n",
        "    with open(f\"dataset/{cls_name}/{cls_name}_{i}.jpg\", \"wb\") as fh:\n",
        "      fh.write(base64.decodebytes(info.split(\",\")[1]))\n",
        "      i += 1\n",
        "  else:\n",
        "    print(info)"
      ],
      "execution_count": null,
      "outputs": [
        {
          "output_type": "stream",
          "text": [
            "/images/branding/searchlogo/1x/googlelogo_desk_heirloom_color_150x55dp.gif\n"
          ],
          "name": "stdout"
        }
      ]
    },
    {
      "cell_type": "markdown",
      "metadata": {
        "id": "tWXODuBiEgcT"
      },
      "source": [
        ""
      ]
    },
    {
      "cell_type": "markdown",
      "metadata": {
        "id": "Cebv4Rshz__m"
      },
      "source": [
        "유리병 데이터 수집\n"
      ]
    },
    {
      "cell_type": "code",
      "metadata": {
        "colab": {
          "base_uri": "https://localhost:8080/"
        },
        "id": "o2k5VBQ5pJO0",
        "outputId": "5612cb4a-41ba-4021-b01a-cffbf951fa7f"
      },
      "source": [
        "url = \"https://www.google.com/search?newwindow=1&sxsrf=ALeKk02tJPKUT-v3PyTgTzwUtNQyOZgt8g:1622371009841&source=univ&tbm=isch&q=glass+bottle&sa=X\"\n",
        "cls_name = \"other\"\n",
        "res = requests.get(url, stream=True)\n",
        "\n",
        "\n",
        "bs = BeautifulSoup(res.content, \"html.parser\")\n",
        "img_list = bs.find_all(\"img\")\n",
        "\n",
        "i=1\n",
        "for img in img_list:\n",
        "  info = img[\"src\"]\n",
        "\n",
        "  if info.startswith(\"http\"):\n",
        "    wget.download(info, f\"dataset/{cls_name}/{cls_name}_{i}.jpg\")\n",
        "    print(info)\n",
        "    i += 1\n",
        "  elif info.startswith(\"data:image\"):\n",
        "    with open(f\"dataset/{cls_name}/{cls_name}_{i}.jpg\", \"wb\") as fh:\n",
        "      fh.write(base64.decodebytes(info.split(\",\")[1]))\n",
        "      print(\"save image\")\n",
        "      i += 1\n",
        "  else:\n",
        "    print(info)"
      ],
      "execution_count": null,
      "outputs": [
        {
          "output_type": "stream",
          "text": [
            "/images/branding/searchlogo/1x/googlelogo_desk_heirloom_color_150x55dp.gif\n",
            "https://encrypted-tbn0.gstatic.com/images?q=tbn:ANd9GcST6WpbRfnRKUMdtaqDY7N4m1gJOa7QE_WdhI2rLWYbv-Cl3-UoT4ZOvEKiEQ&s\n",
            "https://encrypted-tbn0.gstatic.com/images?q=tbn:ANd9GcRTa6xdvlUuhjqO5Pk9uZgBUKWGiTKSRxQ8WTXK3qfEQ23wVL-6_ZcsuXg9Tg&s\n",
            "https://encrypted-tbn0.gstatic.com/images?q=tbn:ANd9GcSDifePaU23trV7-pG0SjOR8eFt0A6QAINW3YLRyo__HK0yzaT4yeqL9vE8bPg&s\n",
            "https://encrypted-tbn0.gstatic.com/images?q=tbn:ANd9GcQlYyYWUL7rO9cSG4YwUd_iPf0C_sFZZh6pSYa5VyXcjAHuG_anlJKRMKUcSdA&s\n",
            "https://encrypted-tbn0.gstatic.com/images?q=tbn:ANd9GcQZa2a5riH_KejYQ9S9I0j1lsvgQS1Le11lkFu-e0KEL-vyUMUA0LhEMhGj6LM&s\n",
            "https://encrypted-tbn0.gstatic.com/images?q=tbn:ANd9GcQEWbbE0nrMEksjOgqXEYlI3Nj74cuStrUDjHpiWSZDrgEuLgmuLWQD48nyMg&s\n",
            "https://encrypted-tbn0.gstatic.com/images?q=tbn:ANd9GcTbHEcxjJI7FxlBzPVEDry-jVLBUlbjFGH_pqp0HYQqG8fdoAHZSuQrimpu7-4&s\n",
            "https://encrypted-tbn0.gstatic.com/images?q=tbn:ANd9GcQtWGlBkOEKp-tzD4W5GGoOiwqTPVMCe2ViDUXlSij2baLyTl7qplLz7GhoHQ&s\n",
            "https://encrypted-tbn0.gstatic.com/images?q=tbn:ANd9GcQY6YJqqQZHh-luQTlTQ99BcJehql5zTHjZI8hrEHwTIcaauEjHy9uhS4Bnzsg&s\n",
            "https://encrypted-tbn0.gstatic.com/images?q=tbn:ANd9GcSdUL8VAGZbkg6Hi7oLyT8E0t5CAqWkpwNNk8YeL2uO_RM7F1ERS0NJgf7hXw&s\n",
            "https://encrypted-tbn0.gstatic.com/images?q=tbn:ANd9GcSgoGF1mi_39sx-gzLkNnPO0SJ8UhJ1kX4voWq2XraTZxY_p6pXFhBa5QXMGg&s\n",
            "https://encrypted-tbn0.gstatic.com/images?q=tbn:ANd9GcRAB8zTF2tGYk_tLrU8jBo3_WMobCcCaFg1EPaiHA723XXcpewE3RHWccCkWW4&s\n",
            "https://encrypted-tbn0.gstatic.com/images?q=tbn:ANd9GcSPAr1FA1dXs56fL6Jnha1BfWcK5E6ri5pidmUSMPknZMvxZ9LfYmecE-Ra&s\n",
            "https://encrypted-tbn0.gstatic.com/images?q=tbn:ANd9GcRCCuiGPBXEyNp3HIc1ZmDArwmpw2-U7PIzmgNXzgaEJe_KelBnhYqn5ZetLg&s\n",
            "https://encrypted-tbn0.gstatic.com/images?q=tbn:ANd9GcT2GRGvaSZsC-G-lGXrlATsH6S0ES12KmGG__D63bznfEKbkgEtdoOHcZntcw&s\n",
            "https://encrypted-tbn0.gstatic.com/images?q=tbn:ANd9GcQ0-vu6Z8z2e94hG48JtdJ0VF6hVVs8n_1njGtBIUP1UQyr2QRi55DGuMucUQ&s\n",
            "https://encrypted-tbn0.gstatic.com/images?q=tbn:ANd9GcT9miW0VAc7Q359TZGJKVPpeobEPkPq8_FjFP1TouzoqsiGAuvoTiA2UQ6ImU8&s\n",
            "https://encrypted-tbn0.gstatic.com/images?q=tbn:ANd9GcQROxvw0f15hIz8qs2lvZBFMQmCdurxEsXzKFUzw5epBKZlLnwIQpnwhzq_WBs&s\n",
            "https://encrypted-tbn0.gstatic.com/images?q=tbn:ANd9GcT-WF9zFFiDcP3be2P3J3MwS70xeZovFvVEar6sHzoDOSRAhZrfgHFgeMtZxFo&s\n",
            "https://encrypted-tbn0.gstatic.com/images?q=tbn:ANd9GcSW2uxz3bbqjzfsw3aQ46qMsIKT2KI-RCKAFI1AXGQqcwiSQ6Iy50g9RPHj7A&s\n"
          ],
          "name": "stdout"
        }
      ]
    },
    {
      "cell_type": "markdown",
      "metadata": {
        "id": "cii04u8T0H3y"
      },
      "source": [
        "데이터 셋 만들기\n",
        "\n",
        "*   학습셋: 16장 x 3클래스 = 48장\n",
        "*   테스트셋: 4장 x 3클래스 = 12장\n",
        "\n"
      ]
    },
    {
      "cell_type": "code",
      "metadata": {
        "id": "aytmauOzpOZ8",
        "colab": {
          "base_uri": "https://localhost:8080/"
        },
        "outputId": "98072494-3cdc-4527-d24f-019a2635e373"
      },
      "source": [
        "\n",
        "import tensorflow as tf\n",
        "img_height=224\n",
        "img_width=224\n",
        "batch_size=8\n",
        "\n",
        "train_ds = tf.keras.preprocessing.image_dataset_from_directory(\n",
        "  \"dataset\",\n",
        "  validation_split=0.2,\n",
        "  subset=\"training\",\n",
        "  seed=123,\n",
        "  image_size=(img_height, img_width),\n",
        "  batch_size=batch_size)\n",
        "\n",
        "val_ds = tf.keras.preprocessing.image_dataset_from_directory(\n",
        "  \"dataset\",\n",
        "  validation_split=0.2,\n",
        "  subset=\"validation\",\n",
        "  seed=123,\n",
        "  image_size=(img_height, img_width),\n",
        "  batch_size=batch_size)"
      ],
      "execution_count": null,
      "outputs": [
        {
          "output_type": "stream",
          "text": [
            "Found 100 files belonging to 3 classes.\n",
            "Using 80 files for training.\n",
            "Found 100 files belonging to 3 classes.\n",
            "Using 20 files for validation.\n"
          ],
          "name": "stdout"
        }
      ]
    },
    {
      "cell_type": "markdown",
      "metadata": {
        "id": "WHxgJigt2Qn0"
      },
      "source": [
        "# 모델 만들기"
      ]
    },
    {
      "cell_type": "code",
      "metadata": {
        "colab": {
          "base_uri": "https://localhost:8080/"
        },
        "id": "vr6DvP7Vpxoz",
        "outputId": "2c3c73e7-b246-470b-941e-a8c6412e061a"
      },
      "source": [
        "import tensorflow as tf\n",
        "\n",
        "basemodel = tf.keras.applications.MobileNetV2(\n",
        "    input_shape=(224,224,3), alpha=1.0, include_top=False, weights='imagenet',\n",
        "    input_tensor=None, pooling=None, classes=1000)\n",
        "\n",
        "\n",
        "model = tf.keras.Sequential()\n",
        "model.add(basemodel)\n",
        "model.add(tf.keras.layers.GlobalAveragePooling2D())\n",
        "model.add(tf.keras.layers.Dense(3))\n",
        "model.summary()"
      ],
      "execution_count": null,
      "outputs": [
        {
          "output_type": "stream",
          "text": [
            "Downloading data from https://storage.googleapis.com/tensorflow/keras-applications/mobilenet_v2/mobilenet_v2_weights_tf_dim_ordering_tf_kernels_1.0_224_no_top.h5\n",
            "9412608/9406464 [==============================] - 0s 0us/step\n",
            "Model: \"sequential\"\n",
            "_________________________________________________________________\n",
            "Layer (type)                 Output Shape              Param #   \n",
            "=================================================================\n",
            "mobilenetv2_1.00_224 (Functi (None, 7, 7, 1280)        2257984   \n",
            "_________________________________________________________________\n",
            "global_average_pooling2d (Gl (None, 1280)              0         \n",
            "_________________________________________________________________\n",
            "dense (Dense)                (None, 3)                 3843      \n",
            "=================================================================\n",
            "Total params: 2,261,827\n",
            "Trainable params: 2,227,715\n",
            "Non-trainable params: 34,112\n",
            "_________________________________________________________________\n"
          ],
          "name": "stdout"
        }
      ]
    },
    {
      "cell_type": "markdown",
      "metadata": {
        "id": "IqS7CCd819jk"
      },
      "source": [
        "# 모델 학습하기\n"
      ]
    },
    {
      "cell_type": "code",
      "metadata": {
        "colab": {
          "base_uri": "https://localhost:8080/"
        },
        "id": "Vjo90fzZp-ZT",
        "outputId": "67f0fcee-2b5b-4a78-da86-9999b3b568f7"
      },
      "source": [
        "optimizer = tf.keras.optimizers.SGD(learning_rate=0.001)\n",
        "loss = tf.keras.losses.SparseCategoricalCrossentropy()\n",
        "model.compile(optimizer=optimizer, loss=loss, metrics=['accuracy'])\n",
        "\n",
        "model.fit(\n",
        "  train_ds,\n",
        "  batch_size=batch_size,\n",
        "  validation_data=val_ds,\n",
        "  epochs=10\n",
        ")"
      ],
      "execution_count": null,
      "outputs": [
        {
          "output_type": "stream",
          "text": [
            "Epoch 1/10\n",
            "10/10 [==============================] - 19s 1s/step - loss: 3.0840 - accuracy: 0.3500 - val_loss: 4.3945 - val_accuracy: 0.5500\n",
            "Epoch 2/10\n",
            "10/10 [==============================] - 14s 1s/step - loss: 1.5365 - accuracy: 0.5125 - val_loss: 3.0203 - val_accuracy: 0.5500\n",
            "Epoch 3/10\n",
            "10/10 [==============================] - 14s 1s/step - loss: 0.9629 - accuracy: 0.5125 - val_loss: 3.0385 - val_accuracy: 0.5500\n",
            "Epoch 4/10\n",
            "10/10 [==============================] - 14s 1s/step - loss: 1.1978 - accuracy: 0.4875 - val_loss: 2.3674 - val_accuracy: 0.5000\n",
            "Epoch 5/10\n",
            "10/10 [==============================] - 14s 1s/step - loss: 1.1830 - accuracy: 0.4500 - val_loss: 2.3305 - val_accuracy: 0.5500\n",
            "Epoch 6/10\n",
            "10/10 [==============================] - 14s 1s/step - loss: 1.1906 - accuracy: 0.4000 - val_loss: 2.2916 - val_accuracy: 0.5000\n",
            "Epoch 7/10\n",
            "10/10 [==============================] - 14s 1s/step - loss: 1.2052 - accuracy: 0.5000 - val_loss: 3.5455 - val_accuracy: 0.5500\n",
            "Epoch 8/10\n",
            "10/10 [==============================] - 14s 1s/step - loss: 1.3663 - accuracy: 0.5375 - val_loss: 1.6176 - val_accuracy: 0.5500\n",
            "Epoch 9/10\n",
            "10/10 [==============================] - 14s 1s/step - loss: 1.2369 - accuracy: 0.4750 - val_loss: 2.7847 - val_accuracy: 0.5500\n",
            "Epoch 10/10\n",
            "10/10 [==============================] - 14s 1s/step - loss: 1.0986 - accuracy: 0.4625 - val_loss: 3.2511 - val_accuracy: 0.6000\n"
          ],
          "name": "stdout"
        },
        {
          "output_type": "execute_result",
          "data": {
            "text/plain": [
              "<tensorflow.python.keras.callbacks.History at 0x7fc82664e750>"
            ]
          },
          "metadata": {
            "tags": []
          },
          "execution_count": 10
        }
      ]
    },
    {
      "cell_type": "markdown",
      "metadata": {
        "id": "jFeck6iJ29kB"
      },
      "source": [
        "# 테스트 해보기\n"
      ]
    },
    {
      "cell_type": "code",
      "metadata": {
        "colab": {
          "base_uri": "https://localhost:8080/"
        },
        "id": "dWOWzgbk26Ts",
        "outputId": "4c0431f4-0a16-4411-8536-1be0717c7c5b"
      },
      "source": [
        "import numpy as np\n",
        "for image_batch, label_batch in val_ds:\n",
        "  pred = np.argmax(model.predict(image_batch), axis=1)\n",
        "  label_batch = np.array(label_batch)\n",
        "  for p, l in zip(pred, label_batch):\n",
        "    print(f\"pred: {p} \\t label: {l} \\t correctness: {p == l}\")\n"
      ],
      "execution_count": null,
      "outputs": [
        {
          "output_type": "stream",
          "text": [
            "pred: 2 \t label: 2 \t correctness: True\n",
            "pred: 2 \t label: 2 \t correctness: True\n",
            "pred: 2 \t label: 2 \t correctness: True\n",
            "pred: 2 \t label: 1 \t correctness: False\n",
            "pred: 2 \t label: 0 \t correctness: False\n",
            "pred: 1 \t label: 1 \t correctness: True\n",
            "pred: 1 \t label: 1 \t correctness: True\n",
            "pred: 2 \t label: 2 \t correctness: True\n",
            "pred: 1 \t label: 0 \t correctness: False\n",
            "pred: 1 \t label: 2 \t correctness: False\n",
            "pred: 2 \t label: 2 \t correctness: True\n",
            "pred: 2 \t label: 0 \t correctness: False\n",
            "pred: 2 \t label: 2 \t correctness: True\n",
            "pred: 2 \t label: 0 \t correctness: False\n",
            "pred: 2 \t label: 1 \t correctness: False\n",
            "pred: 2 \t label: 2 \t correctness: True\n",
            "pred: 1 \t label: 1 \t correctness: True\n",
            "pred: 2 \t label: 2 \t correctness: True\n",
            "pred: 2 \t label: 2 \t correctness: True\n",
            "pred: 1 \t label: 0 \t correctness: False\n"
          ],
          "name": "stdout"
        }
      ]
    },
    {
      "cell_type": "markdown",
      "metadata": {
        "id": "d7rxksqF4gxz"
      },
      "source": [
        "# 라즈베리파이 test"
      ]
    },
    {
      "cell_type": "code",
      "metadata": {
        "colab": {
          "base_uri": "https://localhost:8080/"
        },
        "id": "UGreWxWsWunD",
        "outputId": "60c36fab-b5ba-4901-84b5-a9be4244d9f1"
      },
      "source": [
        "from PIL import Image\n",
        "import numpy as np\n",
        "img_name = \"test/brown1.png\"\n",
        "img = Image.open(img_name).convert(\"RGB\")\n",
        "img = tf.image.resize(np.array(img), (224,224))\n",
        "img = tf.expand_dims(img, axis=0)\n",
        "pred = np.argmax(model.predict(img), axis=1)\n",
        "if pred ==0:\n",
        "  print(\"brown\")\n",
        "elif pred == 1:\n",
        "  print(\"green\")\n",
        "elif pred == 2:\n",
        "  print(\"other\")"
      ],
      "execution_count": null,
      "outputs": [
        {
          "output_type": "stream",
          "text": [
            "brown\n"
          ],
          "name": "stdout"
        }
      ]
    }
  ]
}